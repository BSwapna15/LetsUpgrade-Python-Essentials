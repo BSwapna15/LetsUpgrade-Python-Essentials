{
  "nbformat": 4,
  "nbformat_minor": 0,
  "metadata": {
    "colab": {
      "name": "Assignment-Day4.ipynb",
      "provenance": [],
      "authorship_tag": "ABX9TyNwJBjjPN8TeId3nrTxEvW/",
      "include_colab_link": true
    },
    "kernelspec": {
      "name": "python3",
      "display_name": "Python 3"
    }
  },
  "cells": [
    {
      "cell_type": "markdown",
      "metadata": {
        "id": "view-in-github",
        "colab_type": "text"
      },
      "source": [
        "<a href=\"https://colab.research.google.com/github/BSwapna15/LetsUpgrade-Python-Essentials/blob/master/Assignment_Day4.ipynb\" target=\"_parent\"><img src=\"https://colab.research.google.com/assets/colab-badge.svg\" alt=\"Open In Colab\"/></a>"
      ]
    },
    {
      "cell_type": "code",
      "metadata": {
        "id": "_OvLQgmrjiwE",
        "colab_type": "code",
        "colab": {
          "base_uri": "https://localhost:8080/",
          "height": 34
        },
        "outputId": "9e932e95-4e96-4b29-902a-f64a86c9f4af"
      },
      "source": [
        "for num in range(1042000,702648266):\n",
        "  length = len(str(num))\n",
        "  sum = 0\n",
        "  temp = num\n",
        "  while temp > 0:\n",
        "    digit = temp % 10\n",
        "    sum += digit ** length\n",
        "    temp //= 10\n",
        "  if(sum == num):\n",
        "    print(\"The first Armstrong number is -- \",num)\n",
        "    break"
      ],
      "execution_count": 17,
      "outputs": [
        {
          "output_type": "stream",
          "text": [
            "The first Armstrong number is --  1741725\n"
          ],
          "name": "stdout"
        }
      ]
    }
  ]
}