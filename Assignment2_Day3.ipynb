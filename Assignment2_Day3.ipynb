{
  "nbformat": 4,
  "nbformat_minor": 0,
  "metadata": {
    "colab": {
      "name": "Assignment2_Day3.ipynb",
      "provenance": [],
      "authorship_tag": "ABX9TyP4Ol3BOAgiKmt4K/JmPjUM",
      "include_colab_link": true
    },
    "kernelspec": {
      "name": "python3",
      "display_name": "Python 3"
    }
  },
  "cells": [
    {
      "cell_type": "markdown",
      "metadata": {
        "id": "view-in-github",
        "colab_type": "text"
      },
      "source": [
        "<a href=\"https://colab.research.google.com/github/BSwapna15/LetsUpgrade-Python-Essentials/blob/master/Assignment2_Day3.ipynb\" target=\"_parent\"><img src=\"https://colab.research.google.com/assets/colab-badge.svg\" alt=\"Open In Colab\"/></a>"
      ]
    },
    {
      "cell_type": "markdown",
      "metadata": {
        "id": "uJDNtPqh81T0",
        "colab_type": "text"
      },
      "source": [
        "**Question1**"
      ]
    },
    {
      "cell_type": "code",
      "metadata": {
        "id": "EkGzRAaU8jCm",
        "colab_type": "code",
        "colab": {
          "base_uri": "https://localhost:8080/",
          "height": 34
        },
        "outputId": "e1d2b707-33ca-4352-ae6e-05dc3bf2eb62"
      },
      "source": [
        "altitudeVal = 1000\n",
        "if altitudeVal <= 1000:\n",
        "  print(\"Safe to land\")\n",
        "elif altitudeVal > 1000 and altitudeVal <= 5000:\n",
        "  print(\"Bring down to 1000\")\n",
        "elif altitudeVal > 5000:\n",
        "  print(\"Turn around\")"
      ],
      "execution_count": 4,
      "outputs": [
        {
          "output_type": "stream",
          "text": [
            "Safe to land\n"
          ],
          "name": "stdout"
        }
      ]
    },
    {
      "cell_type": "code",
      "metadata": {
        "id": "3SfSqIhZ-7RR",
        "colab_type": "code",
        "colab": {
          "base_uri": "https://localhost:8080/",
          "height": 34
        },
        "outputId": "cfa0081d-48c9-4a3d-f60d-0e22719670f9"
      },
      "source": [
        "altitudeVal = 4500\n",
        "if altitudeVal <= 1000:\n",
        "  print(\"Safe to land\")\n",
        "elif altitudeVal > 1000 and altitudeVal <= 5000:\n",
        "  print(\"Bring down to 1000\")\n",
        "elif altitudeVal > 5000:\n",
        "  print(\"Turn around\")"
      ],
      "execution_count": 5,
      "outputs": [
        {
          "output_type": "stream",
          "text": [
            "Bring down to 1000\n"
          ],
          "name": "stdout"
        }
      ]
    },
    {
      "cell_type": "code",
      "metadata": {
        "id": "zXhwXDufAzTx",
        "colab_type": "code",
        "colab": {
          "base_uri": "https://localhost:8080/",
          "height": 34
        },
        "outputId": "b54b985c-4e4c-48ff-e5be-9a1c6a3b0c89"
      },
      "source": [
        "altitudeVal = 6500\n",
        "if altitudeVal <= 1000:\n",
        "  print(\"Safe to land\")\n",
        "elif altitudeVal > 1000 and altitudeVal <= 5000:\n",
        "  print(\"Bring down to 1000\")\n",
        "elif altitudeVal > 5000:\n",
        "  print(\"Turn around\")"
      ],
      "execution_count": 7,
      "outputs": [
        {
          "output_type": "stream",
          "text": [
            "Turn around\n"
          ],
          "name": "stdout"
        }
      ]
    },
    {
      "cell_type": "markdown",
      "metadata": {
        "id": "zgrE9LfLA89f",
        "colab_type": "text"
      },
      "source": [
        "**Question2 - Loops**"
      ]
    },
    {
      "cell_type": "code",
      "metadata": {
        "id": "4MECvh73A1Uv",
        "colab_type": "code",
        "colab": {
          "base_uri": "https://localhost:8080/",
          "height": 816
        },
        "outputId": "2fe6f4d7-0be4-40f9-bf07-6377b07af923"
      },
      "source": [
        "print(\"List of Prime numbers\")\n",
        "for num in range(1,201):\n",
        "  if num > 1:\n",
        "    for i in range(2,num):\n",
        "      if num%i == 0:\n",
        "        break\n",
        "    else:\n",
        "      print(num)\n",
        "    "
      ],
      "execution_count": 9,
      "outputs": [
        {
          "output_type": "stream",
          "text": [
            "List of Prime numbers\n",
            "2\n",
            "3\n",
            "5\n",
            "7\n",
            "11\n",
            "13\n",
            "17\n",
            "19\n",
            "23\n",
            "29\n",
            "31\n",
            "37\n",
            "41\n",
            "43\n",
            "47\n",
            "53\n",
            "59\n",
            "61\n",
            "67\n",
            "71\n",
            "73\n",
            "79\n",
            "83\n",
            "89\n",
            "97\n",
            "101\n",
            "103\n",
            "107\n",
            "109\n",
            "113\n",
            "127\n",
            "131\n",
            "137\n",
            "139\n",
            "149\n",
            "151\n",
            "157\n",
            "163\n",
            "167\n",
            "173\n",
            "179\n",
            "181\n",
            "191\n",
            "193\n",
            "197\n",
            "199\n"
          ],
          "name": "stdout"
        }
      ]
    },
    {
      "cell_type": "code",
      "metadata": {
        "id": "TVyYZO0ODL-O",
        "colab_type": "code",
        "colab": {}
      },
      "source": [
        ""
      ],
      "execution_count": null,
      "outputs": []
    }
  ]
}